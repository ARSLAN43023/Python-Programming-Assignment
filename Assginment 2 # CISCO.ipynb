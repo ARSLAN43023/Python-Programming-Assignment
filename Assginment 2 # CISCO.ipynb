{
 "cells": [
  {
   "cell_type": "markdown",
   "metadata": {},
   "source": [
    "# PYTHON ASSIGNMENT # 2"
   ]
  },
  {
   "cell_type": "markdown",
   "metadata": {},
   "source": [
    "## Question No 1"
   ]
  },
  {
   "cell_type": "code",
   "execution_count": 76,
   "metadata": {},
   "outputs": [
    {
     "name": "stdout",
     "output_type": "stream",
     "text": [
      "Enter Class Strength: 2\n",
      "Enter Student Name: ARSLAN AHMED\n",
      "Enter Student Class: 10\n",
      "Enter the marks of Physics: 77\n",
      "Enter the marks of Mathematics: 85\n",
      "Enter the marks of English: 65\n",
      "Enter the marks of Urdu: 105\n",
      "\u001b[1mInvalid Input\n",
      "Marks Can't be greater than 100\n",
      "\u001b[0m\n",
      "Enter the marks of Urdu: 59\n",
      "Enter the marks of Islamiat: 91\n",
      "\n",
      "\n",
      "\u001b[1m\t \t \t \t Detailed Marks Sheet \n",
      "\n",
      "Student Name:  ARSLAN AHMED\n",
      "Class:  10\n",
      "\u001b[0m\n",
      "Subjects \t \t  Obtained Marks \n",
      "Physics\t\t\t         77\n",
      "Mathematics\t\t\t 85\n",
      "English\t\t\t         65\n",
      "Urdu\t\t\t         59\n",
      "Islamiat\t\t\t 91\n",
      "\n",
      "\n",
      "\u001b[1mObtained Marks \t\t        377\n",
      "The Student has passed and placed in : Grade A\n",
      "\u001b[0m\n",
      "Enter Student Name: MUHAMMAD ABULLAH\n",
      "Enter Student Class: 11\n",
      "Enter the marks of Physics: 67\n",
      "Enter the marks of Mathematics: 53\n",
      "Enter the marks of English: 78\n",
      "Enter the marks of Urdu: 65\n",
      "Enter the marks of Islamiat: 86\n",
      "\n",
      "\n",
      "\u001b[1m\t \t \t \t Detailed Marks Sheet \n",
      "\n",
      "Student Name:  MUHAMMAD ABULLAH\n",
      "Class:  11\n",
      "\u001b[0m\n",
      "Subjects \t \t  Obtained Marks \n",
      "Physics\t\t\t         67\n",
      "Mathematics\t\t\t 53\n",
      "English\t\t\t         78\n",
      "Urdu\t\t\t         65\n",
      "Islamiat\t\t\t 86\n",
      "\n",
      "\n",
      "\u001b[1mObtained Marks \t\t        349\n",
      "The Student has passed and placed in : Grade B\n",
      "\u001b[0m\n",
      "\n",
      "\n"
     ]
    }
   ],
   "source": [
    "class_strength=int(input(\"Enter Class Strength: \"))\n",
    "Subjects=[\"Physics\",\"Mathematics\",\"English\",\"Urdu\",\"Islamiat\"]\n",
    "\n",
    "while(class_strength>0):\n",
    "    count=0\n",
    "    i=0\n",
    "    marks=0\n",
    "    TotalMarks=0\n",
    "    Total=0\n",
    "    Average=0\n",
    "    Marks=[]\n",
    "    name=input(\"Enter Student Name: \")\n",
    "    class_student=int(input(\"Enter Student Class: \"))\n",
    "    class_strength=class_strength-1\n",
    "    while(count<5):\n",
    "        marks=int(input(\"Enter the marks of \" + Subjects[i] + \": \"))\n",
    "        if marks<100:\n",
    "            count=count+1\n",
    "            i=i+1\n",
    "            Marks.append(marks)\n",
    "            Total=sum(Marks)\n",
    "        else:\n",
    "            print(\"\\033[1m\"+\"Invalid Input\\nMarks Can't be greater than 100\")\n",
    "            print('\\033[0m')\n",
    "       \n",
    "        \n",
    "    Average=Total//count    \n",
    "    \n",
    "    print(\"\\n\")\n",
    "    print(\"\\033[1m\" + \"\\t \\t \\t \\t Detailed Marks Sheet \\n\")\n",
    "    print(\"Student Name: \" ,name)\n",
    "    print(\"Class: \",class_student)\n",
    "    print('\\033[0m')\n",
    "\n",
    "    print(\"Subjects \\t \\t  Obtained Marks \")\n",
    "\n",
    "    print(Subjects[0] +\"\\t\\t\\t        \" ,Marks[0])\n",
    "    print(Subjects[1] +\"\\t\\t\\t\" ,Marks[1])\n",
    "    print(Subjects[2] +\"\\t\\t\\t        \" ,Marks[2])\n",
    "    print(Subjects[3] +\"\\t\\t\\t        \" ,Marks[3])\n",
    "    print(Subjects[4] +\"\\t\\t\\t\" ,Marks[4])\n",
    "    print(\"\\n\")\n",
    "    print(\"\\033[1m\"+\"Obtained Marks \\t\\t       \" ,Total)\n",
    "\n",
    "    if (Average>=80 and Average<100):\n",
    "        print(\"The Student has passed and placed in : Grade A+\",end='\\n')\n",
    "    elif (Average>=70 and Average<80):\n",
    "        print(\"The Student has passed and placed in : Grade A\")\n",
    "    elif(Average>=60 and Average<70):\n",
    "        print(\"The Student has passed and placed in : Grade B\")\n",
    "    elif (Average>=50 and Average<60):\n",
    "        print(\"The Student has passed and placed in : Grade D\")\n",
    "    else:\n",
    "        print(\"The Student has FAILED and must Reappear in Failed subjects\")\n",
    "        \n",
    "    print('\\033[0m')\n",
    "\n",
    "print(\"\\n\")\n",
    "    "
   ]
  },
  {
   "cell_type": "markdown",
   "metadata": {},
   "source": [
    "## Question No 2"
   ]
  },
  {
   "cell_type": "code",
   "execution_count": 7,
   "metadata": {},
   "outputs": [
    {
     "name": "stdout",
     "output_type": "stream",
     "text": [
      "Enter a number:9\n",
      "The Entered number is odd:  9\n"
     ]
    }
   ],
   "source": [
    "number=int(input(\"Enter a number:\"))\n",
    "\n",
    "if number%2==0:\n",
    "    print(\"The Entered number is even: \",number)\n",
    "else:\n",
    "    print(\"The Entered number is odd: \",number)"
   ]
  },
  {
   "cell_type": "markdown",
   "metadata": {},
   "source": [
    "## Question No 3"
   ]
  },
  {
   "cell_type": "code",
   "execution_count": 67,
   "metadata": {},
   "outputs": [
    {
     "name": "stdout",
     "output_type": "stream",
     "text": [
      "The length of list is : 9\n"
     ]
    }
   ],
   "source": [
    "list_length=[11,22,33,444,543,13,44,55,669]\n",
    "print(\"The length of list is :\",len(list_length))\n"
   ]
  },
  {
   "cell_type": "markdown",
   "metadata": {},
   "source": [
    "## Question No 4"
   ]
  },
  {
   "cell_type": "code",
   "execution_count": 71,
   "metadata": {},
   "outputs": [
    {
     "name": "stdout",
     "output_type": "stream",
     "text": [
      "The sum of numeric list is:  232\n"
     ]
    }
   ],
   "source": [
    "sum_numeric_list=[1,1,2,3,5,8,13,21,34,55,89]\n",
    "print(\"The sum of numeric list is: \",sum(sum_numeric_list))"
   ]
  },
  {
   "cell_type": "markdown",
   "metadata": {},
   "source": [
    "## Question No 5"
   ]
  },
  {
   "cell_type": "code",
   "execution_count": 73,
   "metadata": {},
   "outputs": [
    {
     "name": "stdout",
     "output_type": "stream",
     "text": [
      "The largest number in the list is :  80\n"
     ]
    }
   ],
   "source": [
    "num_list=[1,3,4,80,9,10,3]\n",
    "print(\"The largest number in the list is : \",max(num_list))"
   ]
  },
  {
   "cell_type": "markdown",
   "metadata": {},
   "source": [
    "## Question No 6"
   ]
  },
  {
   "cell_type": "code",
   "execution_count": 82,
   "metadata": {},
   "outputs": [
    {
     "name": "stdout",
     "output_type": "stream",
     "text": [
      "The elements less than 5 in list are: \n",
      "1\n",
      "1\n",
      "2\n",
      "3\n"
     ]
    }
   ],
   "source": [
    "a=[1,1,2,3,5,8,13,21,34,55,89]\n",
    "print(\"The elements less than 5 in list are: \")\n",
    "for n in a:\n",
    "    if n<5:\n",
    "        print(n)"
   ]
  },
  {
   "cell_type": "code",
   "execution_count": null,
   "metadata": {},
   "outputs": [],
   "source": []
  }
 ],
 "metadata": {
  "kernelspec": {
   "display_name": "Python 3",
   "language": "python",
   "name": "python3"
  },
  "language_info": {
   "codemirror_mode": {
    "name": "ipython",
    "version": 3
   },
   "file_extension": ".py",
   "mimetype": "text/x-python",
   "name": "python",
   "nbconvert_exporter": "python",
   "pygments_lexer": "ipython3",
   "version": "3.7.4"
  }
 },
 "nbformat": 4,
 "nbformat_minor": 2
}
