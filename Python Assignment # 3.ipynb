{
 "cells": [
  {
   "cell_type": "markdown",
   "metadata": {
    "colab_type": "text",
    "id": "7LFX8yv6DeCb"
   },
   "source": [
    "**PYTHON ASSIGNMENT # 3**\n",
    "\n",
    "**QUESTION NO: 1**"
   ]
  },
  {
   "cell_type": "code",
   "execution_count": 4,
   "metadata": {
    "colab": {
     "base_uri": "https://localhost:8080/",
     "height": 101
    },
    "colab_type": "code",
    "id": "uZpz3wYraas8",
    "outputId": "532619c1-0545-485d-f5dd-1e86ebdebf03"
   },
   "outputs": [
    {
     "name": "stdout",
     "output_type": "stream",
     "text": [
      "*************************CALCULATOR APPLICATION*****************************************\n",
      "Enter 1st num: 34\n",
      "Enter 2nd num: 2\n",
      "Enter your operator (+,-,*,/,%,**) :  **\n",
      "Power:  34 ** 2 = 1156\n"
     ]
    }
   ],
   "source": [
    "#Make a calculator using Python with addition , subtraction , multiplication , division and power.\n",
    "\n",
    "print(\"*************************CALCULATOR APPLICATION*****************************************\")\n",
    "num1=int(input(\"Enter 1st num: \"))\n",
    "num2=int(input(\"Enter 2nd num: \"))\n",
    "operator=input(\"Enter your operator (+,-,*,/,%,**) :  \")\n",
    "\n",
    "if operator=='+':\n",
    "  result=num1+num2\n",
    "  print(\"Addition: \",num1,\"+\",num2,\"=\",result)\n",
    "elif operator=='-':\n",
    "  result=num1-num2\n",
    "  print(\"Subtraction: \",num1,\"-\",num2,\"=\",result)\n",
    "elif operator=='*':\n",
    "  result=num1*num2\n",
    "  print(\"Multiplication: \",num1,\"*\",num2,\"=\",result)\n",
    "elif operator=='/':\n",
    "  result=num1//num2\n",
    "  print(\"Division \",num1,\"/\",num2,\"=\",result)\n",
    "elif operator=='%':\n",
    "  result=num1%num2\n",
    "  print(\"Remainder: \",num1,\"%\",num2,\"=\",result)\n",
    "elif operator=='**':\n",
    "  result=num1**num2\n",
    "  print(\"Power: \",num1,\"**\",num2,\"=\",result)\n",
    "else:\n",
    "  print(\"Invalid Operator\")\n",
    "\n",
    "\n"
   ]
  },
  {
   "cell_type": "markdown",
   "metadata": {
    "colab_type": "text",
    "id": "b3zMSPQDD2sI"
   },
   "source": [
    "**QUESTION NO: 2**"
   ]
  },
  {
   "cell_type": "code",
   "execution_count": 6,
   "metadata": {
    "colab": {
     "base_uri": "https://localhost:8080/",
     "height": 101
    },
    "colab_type": "code",
    "id": "zBwCVbRahMu4",
    "outputId": "1ab41330-b81a-4edc-84bf-da359fa39c98"
   },
   "outputs": [
    {
     "name": "stdout",
     "output_type": "stream",
     "text": [
      "[1, 'Arslan', 4, 'Ahmed', 'FCCL', 6, 916, 'HQ']\n",
      "The numeric values in the above list are\n",
      "1\n",
      "4\n",
      "6\n",
      "916\n"
     ]
    }
   ],
   "source": [
    "# Write a program to check if there is any numeric value in list using for loop\n",
    "\n",
    "check_numeric=[1,\"Arslan\",4,\"Ahmed\",\"FCCL\",6,916,\"HQ\"]\n",
    "print(check_numeric)\n",
    "print(\"The numeric values in the above list are\")\n",
    "for i in check_numeric:\n",
    "  if type(i)==int:\n",
    "    print(i)\n"
   ]
  },
  {
   "cell_type": "markdown",
   "metadata": {
    "colab_type": "text",
    "id": "ADFw2GDwEgYh"
   },
   "source": [
    "**QUESTION NO: 3**"
   ]
  },
  {
   "cell_type": "code",
   "execution_count": 1,
   "metadata": {
    "colab": {
     "base_uri": "https://localhost:8080/",
     "height": 272
    },
    "colab_type": "code",
    "id": "aXB6_mtjjkJH",
    "outputId": "f556537f-4675-43c2-b96c-e4d46bb65c2b"
   },
   "outputs": [
    {
     "name": "stdout",
     "output_type": "stream",
     "text": [
      "Before adding key to dictionary \n",
      "  {1: 'ARSLAN', 2: 'WASEEM', 3: 'AHMED', 4: 'SAAD'}\n",
      "After adding key to dictionary \n",
      "  {1: 'ARSLAN', 2: 'WASEEM', 3: 'AHMED', 4: 'SAAD', 5: 'TALHA'}\n",
      "Enter the size of dictionary to extend for employees: 2\n",
      "Enter Value of Dictionary: ABDULLAH\n",
      "Enter Value of Dictionary: UKASHA\n",
      "AFTER ADDING KEYS TO Dictionary by user input: \n",
      " {1: 'ARSLAN', 2: 'WASEEM', 3: 'AHMED', 4: 'SAAD', 5: 'TALHA', 6: 'ABDULLAH', 7: 'UKASHA'}\n",
      "KEYS ARE:  1\n",
      "KEYS ARE:  2\n",
      "KEYS ARE:  3\n",
      "KEYS ARE:  4\n",
      "KEYS ARE:  5\n",
      "KEYS ARE:  6\n",
      "KEYS ARE:  7\n"
     ]
    }
   ],
   "source": [
    "# Write a Python script to add a key to a dictionary\n",
    "employee={\n",
    "    1:\"ARSLAN\",\n",
    "    2:\"WASEEM\",\n",
    "    3:\"AHMED\",\n",
    "    4:\"SAAD\"\n",
    "}\n",
    "\n",
    "print(\"Before adding key to dictionary \\n \", employee)\n",
    "\n",
    "employee[5]=\"TALHA\" \n",
    "\n",
    "print(\"After adding key to dictionary \\n \",employee)\n",
    "\n",
    "# Adding keys and values in the dictionary using user input\n",
    "\n",
    "sizeofdict=int(input(\"Enter the size of dictionary to extend for employees: \"))\n",
    "count=0\n",
    "\n",
    "while (sizeofdict>0):\n",
    "    a=len(employee)\n",
    "    valueofdict=input(\"Enter Value of Dictionary: \")\n",
    "    employee[a+1]=valueofdict\n",
    "    sizeofdict-=1\n",
    "print(\"AFTER ADDING KEYS TO Dictionary by user input: \\n\",employee)\n",
    "\n",
    "for dictkeys in employee.keys():\n",
    "  print(\"KEYS ARE: \",dictkeys)\n",
    "\n",
    "\n",
    "\n"
   ]
  },
  {
   "cell_type": "markdown",
   "metadata": {
    "colab_type": "text",
    "id": "iwkMtT3oFvJq"
   },
   "source": [
    "**QUESTION NO: 4**"
   ]
  },
  {
   "cell_type": "code",
   "execution_count": 3,
   "metadata": {
    "colab": {
     "base_uri": "https://localhost:8080/",
     "height": 50
    },
    "colab_type": "code",
    "id": "cZHgyFE1g5ck",
    "outputId": "e03653b2-e4a4-4256-a9dc-edd5d73c185e"
   },
   "outputs": [
    {
     "name": "stdout",
     "output_type": "stream",
     "text": [
      "{1: 'ARSLAN', 2: 5, 3: 'AHMED', 4: 10}\n",
      "The sum of all numeric values in the dictionary is =  25\n"
     ]
    }
   ],
   "source": [
    "# Write a Python program to sum all the numeric items in a dictionary\n",
    "\n",
    "employee={\n",
    "    1:\"Assginment\",\n",
    "    2:5,\n",
    "    3:\"CISCO\",\n",
    "    4:10\n",
    "}\n",
    "print(employee)\n",
    "sum=0\n",
    "for dictkeys in employee.keys():\n",
    "  if type(dictkeys)==int:\n",
    "    sum=sum+dictkeys\n",
    "for dictvalues in employee.values():\n",
    "  if type(dictvalues)==int:\n",
    "    sum=sum+dictvalues\n",
    "print(\"The sum of all numeric values in the dictionary is = \",sum)\n",
    "\n"
   ]
  },
  {
   "cell_type": "markdown",
   "metadata": {
    "colab_type": "text",
    "id": "heDcYMYcF_ao"
   },
   "source": [
    "**QUESTION NO: 5**"
   ]
  },
  {
   "cell_type": "code",
   "execution_count": 7,
   "metadata": {
    "colab": {
     "base_uri": "https://localhost:8080/",
     "height": 84
    },
    "colab_type": "code",
    "id": "QsJI8HM1u2as",
    "outputId": "383e4678-5fe5-446c-9745-5e3889664ea9"
   },
   "outputs": [
    {
     "name": "stdout",
     "output_type": "stream",
     "text": [
      "Duplicates values in the list 44\n",
      "Duplicates values in the list 55\n",
      "Duplicates values in the list 77\n",
      "Duplicates values in the list 4\n"
     ]
    }
   ],
   "source": [
    "# Write a program to identify duplicate values from list\n",
    "\n",
    "\n",
    "check_duplicate_list = [44, 55, 66, 77, 88, 4, 77, 90,44,2,7,55,4]\n",
    "\n",
    "for x in range(0,len(check_duplicate_list)):\n",
    "  for y in range(x+1,len(check_duplicate_list)):\n",
    "    if (check_duplicate_list[x]==check_duplicate_list[y]):\n",
    "      print(\"Duplicates values in the list\", check_duplicate_list[y])\n"
   ]
  },
  {
   "cell_type": "markdown",
   "metadata": {
    "colab_type": "text",
    "id": "QyChEEwZGPTT"
   },
   "source": [
    "**QUESTION NO: 6**"
   ]
  },
  {
   "cell_type": "code",
   "execution_count": 95,
   "metadata": {
    "colab": {
     "base_uri": "https://localhost:8080/",
     "height": 50
    },
    "colab_type": "code",
    "id": "RJwVL0bPM8d-",
    "outputId": "0958b744-2cb3-477c-f9fe-2e4f3f2f24fc"
   },
   "outputs": [
    {
     "name": "stdout",
     "output_type": "stream",
     "text": [
      "Enter the key to check if it already exists in the dictionary : 4\n",
      "The entered key alredy exists in the dictionary\n"
     ]
    }
   ],
   "source": [
    "# Write a Python script to check if a given key already exists in a dictionary\n",
    "employee={\n",
    "    1:\"ARSLAN AHMED\",\n",
    "    2:\"WASEEM SAJJAD\",\n",
    "    3:\"AHMED ALI\",\n",
    "    4:\"MUHAMMAD SAAD KHAN\"\n",
    "}\n",
    "\n",
    "checkkey=int(input(\"Enter the key to check if it already exists in the dictionary : \"))\n",
    "\n",
    "if checkkey in employee.keys():\n",
    "  print(\"The entered key already exists in the dictionary\")\n",
    "else:\n",
    "  print(\"The entered key doesnot exists in the dictionary\")\n",
    "\n"
   ]
  },
  {
   "cell_type": "code",
   "execution_count": 0,
   "metadata": {
    "colab": {},
    "colab_type": "code",
    "id": "BgEQu9W0nF8V"
   },
   "outputs": [],
   "source": []
  }
 ],
 "metadata": {
  "colab": {
   "collapsed_sections": [],
   "name": "Assignment3 CISCO.ipynb",
   "provenance": []
  },
  "kernelspec": {
   "display_name": "Python 3",
   "language": "python",
   "name": "python3"
  },
  "language_info": {
   "codemirror_mode": {
    "name": "ipython",
    "version": 3
   },
   "file_extension": ".py",
   "mimetype": "text/x-python",
   "name": "python",
   "nbconvert_exporter": "python",
   "pygments_lexer": "ipython3",
   "version": "3.7.4"
  }
 },
 "nbformat": 4,
 "nbformat_minor": 1
}
