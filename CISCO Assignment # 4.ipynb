{
 "cells": [
  {
   "cell_type": "code",
   "execution_count": 10,
   "metadata": {},
   "outputs": [
    {
     "name": "stdout",
     "output_type": "stream",
     "text": [
      "1 What is the capital city of Pakistan?\n",
      " Write the correct option as input \n",
      "1.Faisalabad 2.Karachi 3.Islamabad 4.Lahore\n",
      "Lahoore\n",
      "2 What is national game of Pakistan?\n",
      " Write the correct option as input \n",
      "1.Cricket 2.Hockey 3.Football 4.Badminton\n",
      "Hockey\n",
      "3 What is the abbrevation of currency of Pakistan?\n",
      " Write the correct option as input \n",
      "1.PND 2.YEN 3.USD 4.PKR\n",
      "PKR\n",
      "Your score is :  2\n",
      "Your percentage is :  66.66666666666666\n"
     ]
    }
   ],
   "source": [
    "# quiz application with dictionary\n",
    "\n",
    "quiz_app=[\n",
    "    {\n",
    "    \"S.no\":1,\n",
    "    \"Question\":\"What is the capital city of Pakistan?\",\n",
    "    \"Options\":\"1.Faisalabad 2.Karachi 3.Islamabad 4.Lahore\",\n",
    "    \"Answer\":\"Islamabad\"\n",
    "    },\n",
    "     {\n",
    "    \"S.no\":2,\n",
    "    \"Question\":\"What is national game of Pakistan?\",\n",
    "    \"Options\":\"1.Cricket 2.Hockey 3.Football 4.Badminton\",\n",
    "    \"Answer\":\"Hockey\"\n",
    "    },\n",
    "    {\n",
    "    \"S.no\":3,\n",
    "    \"Question\":\"What is the abbrevation of currency of Pakistan?\",\n",
    "    \"Options\":\"1.PND 2.YEN 3.USD 4.PKR\",\n",
    "    \"Answer\":\"PKR\"\n",
    "    }    \n",
    "]\n",
    "\n",
    "score=0\n",
    "\n",
    "for quizapp in quiz_app:\n",
    "    print(str(quizapp[\"S.no\"]) + \" \" + quizapp[\"Question\"] + \"\\n Write the correct option as input \\n\" + quizapp[\"Options\"])\n",
    "    answer=input()\n",
    "    if answer==quizapp[\"Answer\"]:\n",
    "        score+=1\n",
    "\n",
    "print(\"Your score is : \",score)\n",
    "percentage=(score/len(quiz_app))*100\n",
    "print(\"Your percentage is : \", percentage)\n",
    "        "
   ]
  },
  {
   "cell_type": "code",
   "execution_count": 33,
   "metadata": {},
   "outputs": [
    {
     "name": "stdout",
     "output_type": "stream",
     "text": [
      "Name: Arslan Ahmed\n",
      "Age: 25\n",
      "City: Islamabad\n",
      "\n",
      "After adding qualification to person details \n",
      " \n",
      "Name: Arslan Ahmed\n",
      "Age: 25\n",
      "City: Islamabad\n",
      "Qualification: Intermediate\n",
      "\n",
      "After updating qualification to person details \n",
      " \n",
      "Name: Arslan Ahmed\n",
      "Age: 25\n",
      "City: Islamabad\n",
      "Qualification: Bachelors in Software Engineering\n"
     ]
    }
   ],
   "source": [
    "# Question No :1\n",
    "person={\n",
    "    \"First_name\":\"Arslan\",\n",
    "    \"Last_name\":\"Ahmed\",\n",
    "    \"Age\":25,\n",
    "    \"City\":\"Islamabad\"\n",
    "}\n",
    "\n",
    "person_details=\"Name: \" +person[\"First_name\"] + \" \" + person[\"Last_name\"] + \"\\nAge: \"\\\n",
    "+ str(person[\"Age\"]) + \"\\nCity: \" + person[\"City\"]\n",
    "print(person_details + \"\\n\") \n",
    "\n",
    "# Adding new key value pair 'Qualification'\n",
    "\n",
    "person[\"Qualification\"]=\"Intermediate\"\n",
    "print(\"After adding qualification to person details \\n \")\n",
    "print(person_details + \"\\nQualification: \" + person[\"Qualification\"] + \"\\n\")\n",
    "\n",
    "# Updating qualification details\n",
    "person[\"Qualification\"]=\"Bachelors in Software Engineering\"\n",
    "\n",
    "print(\"After updating qualification to person details \\n \")\n",
    "print(person_details + \"\\nQualification: \" + person[\"Qualification\"])\n",
    "\n",
    "# Deleting the key value pair 'Qualification'\n",
    "\n",
    "del person[\"Qualification\"]\n",
    "\n",
    "\n"
   ]
  },
  {
   "cell_type": "code",
   "execution_count": 1,
   "metadata": {},
   "outputs": [
    {
     "name": "stdout",
     "output_type": "stream",
     "text": [
      "Enter the no of persons in movie theatre: 5\n",
      "Enter your age: 5\n",
      "The cost of movie ticket is 10$\n",
      "Enter your age: 7\n",
      "The cost of movie ticket is 10$\n",
      "Enter your age: 2\n",
      "Ticket is free\n",
      "Enter your age: 45\n",
      "The cost of movie ticket is 15$\n",
      "Enter your age: 12\n",
      "The cost of movie ticket is 10$\n"
     ]
    }
   ],
   "source": [
    "# Question no 3\n",
    "\n",
    "no_of_persons=int(input(\"Enter the no of persons in movie theatre: \"))\n",
    "\n",
    "for checkage in range(no_of_persons):\n",
    "    age=int(input(\"Enter your age: \"))\n",
    "    if age<3:\n",
    "        print(\"Ticket is free\")\n",
    "    elif age>=3 and age<=12:\n",
    "        print(\"The cost of movie ticket is 10$\")\n",
    "    elif age>12:\n",
    "        print(\"The cost of movie ticket is 15$\")\n",
    "        \n",
    "    "
   ]
  },
  {
   "cell_type": "code",
   "execution_count": 2,
   "metadata": {},
   "outputs": [
    {
     "name": "stdout",
     "output_type": "stream",
     "text": [
      "One of my favourite book is Alice in Wonder Land\n"
     ]
    }
   ],
   "source": [
    "# Question no 4 \n",
    "title=\"One of my favourite book is Alice in Wonder Land\"\n",
    "\n",
    "def book(title):\n",
    "    print(title)\n",
    "    \n",
    "book(title)\n"
   ]
  },
  {
   "cell_type": "code",
   "execution_count": 31,
   "metadata": {},
   "outputs": [
    {
     "name": "stdout",
     "output_type": "stream",
     "text": [
      "Random num is:  19\n",
      "Guess the correct num: 44\n",
      "The guess num must be between 1 and 30\n",
      "Guess the correct num: 23\n",
      "Your guess is wrong you have 2 chances left to guess the correct num\n",
      "Hint: The hidden number is smaller than the guess number:\n",
      "Guess the correct num: 12\n",
      "Your guess is wrong you have 1 chances left to guess the correct num\n",
      "Hint: The hidden number is greater than the guess number:\n",
      "CONGRATULATIONS your guess is correct\n"
     ]
    }
   ],
   "source": [
    "# Question no 5\n",
    "\n",
    "import random\n",
    "\n",
    "random_num=random.randrange(1,30)\n",
    "print(\"Random num is: \",random_num)\n",
    "\n",
    "count=3\n",
    "\n",
    "for countcheck in range(count):\n",
    "    guess_num=int(input(\"Guess the correct num: \"))\n",
    "    if guess_num <0 or guess_num>30:\n",
    "        print(\"The guess num must be between 1 and 30\")\n",
    "    else:\n",
    "        if random_num != guess_num:\n",
    "            count-=1\n",
    "            print(\"Your guess is wrong you have \" + str(count) + \" chances left to guess the correct num\")\n",
    "            if random_num<guess_num and count!=0:\n",
    "                print(\"Hint: The hidden number is smaller than the guess number:\")\n",
    "            elif random_num>guess_num and count!=0:\n",
    "                print(\"Hint: The hidden number is greater than the guess number:\")\n",
    "        else:\n",
    "            break\n",
    "            \n",
    "if count==0:\n",
    "    print(\"Sorry you have lost the game BETTER LUCK NEXT TIME\")\n",
    "else:\n",
    "    print(\"CONGRATULATIONS your guess is correct\")"
   ]
  },
  {
   "cell_type": "code",
   "execution_count": 26,
   "metadata": {},
   "outputs": [
    {
     "name": "stdout",
     "output_type": "stream",
     "text": [
      "7\n"
     ]
    }
   ],
   "source": [
    "import random\n",
    "\n",
    "randomnum=random.randrange(1,30)\n",
    "print(randomnum)"
   ]
  },
  {
   "cell_type": "code",
   "execution_count": null,
   "metadata": {},
   "outputs": [],
   "source": []
  },
  {
   "cell_type": "code",
   "execution_count": null,
   "metadata": {},
   "outputs": [],
   "source": []
  }
 ],
 "metadata": {
  "kernelspec": {
   "display_name": "Python 3",
   "language": "python",
   "name": "python3"
  },
  "language_info": {
   "codemirror_mode": {
    "name": "ipython",
    "version": 3
   },
   "file_extension": ".py",
   "mimetype": "text/x-python",
   "name": "python",
   "nbconvert_exporter": "python",
   "pygments_lexer": "ipython3",
   "version": "3.7.4"
  }
 },
 "nbformat": 4,
 "nbformat_minor": 2
}
