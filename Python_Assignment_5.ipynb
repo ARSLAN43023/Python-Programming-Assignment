{
 "cells": [
  {
   "cell_type": "markdown",
   "metadata": {},
   "source": [
    "**PYTHON ASSIGNMENT : 5**"
   ]
  },
  {
   "cell_type": "code",
   "execution_count": 1,
   "metadata": {
    "colab": {
     "base_uri": "https://localhost:8080/",
     "height": 153
    },
    "colab_type": "code",
    "id": "RuYO95vwFWAW",
    "outputId": "073f5d77-9c37-41c0-f604-dd8ce818249b"
   },
   "outputs": [
    {
     "name": "stdout",
     "output_type": "stream",
     "text": [
      "Enter number whose factiorial is required: 5\n",
      "Factorial of 5 is 120 \n",
      "Enter number whose factiorial is required: 7\n",
      "Factorial of 7 is 5040 \n",
      "Enter number whose factiorial is required: 9\n",
      "Factorial of 9 is 362880 \n",
      "Enter number whose factiorial is required: -5\n",
      "Invalid Input\n"
     ]
    }
   ],
   "source": [
    "# QUESTION NO: 1\n",
    "\n",
    "flag=True\n",
    "def Factoiral(factorial):\n",
    "  for fact in range(1,factorial):\n",
    "    factorial=factorial*fact\n",
    "    fact+=1\n",
    "  return factorial\n",
    "\n",
    "while flag:\n",
    "  factorial=int(input(\"Enter number whose factiorial is required: \"))\n",
    "  if factorial>0:\n",
    "    Fact =Factoiral(factorial)\n",
    "    print(f'Factorial of {factorial} is {Fact} ')\n",
    "  else:\n",
    "    print(\"Invalid Input\")\n",
    "    flag=False"
   ]
  },
  {
   "cell_type": "code",
   "execution_count": 3,
   "metadata": {
    "colab": {
     "base_uri": "https://localhost:8080/",
     "height": 68
    },
    "colab_type": "code",
    "id": "kQjHOUu6UiBl",
    "outputId": "26255956-97f5-47fc-e79c-2efb304ff92d"
   },
   "outputs": [
    {
     "name": "stdout",
     "output_type": "stream",
     "text": [
      "Enter a string value: ArslanAhmeD\n",
      "The no of upper case letters in the given string are : 3\n",
      "The no of lower case letters in the given string are : 8\n"
     ]
    }
   ],
   "source": [
    "# QUESTION NO : 2\n",
    "\n",
    "upperlist=[]\n",
    "lowerlist=[]\n",
    "flag=True\n",
    "\n",
    "def checkupperlowerstring(stringval):\n",
    "  for val in stringval:\n",
    "    if val in val.upper():\n",
    "      upperlist.append(val)\n",
    "    elif val in val.lower():\n",
    "      lowerlist.append(val)\n",
    "\n",
    "\n",
    "stringval=input(\"Enter a string value: \")\n",
    "checkupperlowerstring(stringval)\n",
    "\n",
    "print(f'The no of upper case letters in the given string are : {len(upperlist)}')\n",
    "print(f'The no of lower case letters in the given string are : {len(lowerlist)}')\n"
   ]
  },
  {
   "cell_type": "code",
   "execution_count": 0,
   "metadata": {
    "colab": {
     "base_uri": "https://localhost:8080/",
     "height": 35
    },
    "colab_type": "code",
    "id": "-JftfEH7XL8V",
    "outputId": "794b485d-f0d8-46db-c9a6-11331b77384a"
   },
   "outputs": [
    {
     "name": "stdout",
     "output_type": "stream",
     "text": [
      "The even numbers in the list are [2, 4, 6, 8, 10]\n"
     ]
    }
   ],
   "source": [
    "# QUESTION NO : 3\n",
    "\n",
    "listofnumbers=[1,2,3,4,5,6,7,8,9,10]\n",
    "evenlist=[]\n",
    "\n",
    "def evennumlist():\n",
    "  for i in listofnumbers:\n",
    "    if i%2 == 0:\n",
    "      evenlist.append(i)\n",
    "  print(f'The even numbers in the list are {evenlist}')\n",
    "\n",
    "evennumlist()"
   ]
  },
  {
   "cell_type": "code",
   "execution_count": 6,
   "metadata": {
    "colab": {
     "base_uri": "https://localhost:8080/",
     "height": 119
    },
    "colab_type": "code",
    "id": "9f9fPeR1nN5E",
    "outputId": "d622ec65-bb27-49f1-87ed-970f9f52ccf8"
   },
   "outputs": [
    {
     "name": "stdout",
     "output_type": "stream",
     "text": [
      "Enter a string to check it is palindrome or not:\n",
      " Arslan\n",
      "The entered string is not a palindrome.\n",
      "Enter a string to check it is palindrome or not:\n",
      " Madam\n",
      "The entered string is a palindrome.\n"
     ]
    }
   ],
   "source": [
    "# QUESTION NO : 4\n",
    "\n",
    "flag=0\n",
    "def checkpalindrome(palindrome):\n",
    "  palindrome = palindrome.casefold()\n",
    "  reversedstring = reversed(palindrome)\n",
    "  if list(palindrome) == list(reversedstring):\n",
    "   print(\"The entered string is a palindrome.\")\n",
    "  else:\n",
    "   print(\"The entered string is not a palindrome.\")\n",
    "\n",
    "while True:\n",
    "  if flag>1:\n",
    "    break\n",
    "  else:\n",
    "    palindrome=input(\"Enter a string to check it is palindrome or not:\\n \")\n",
    "    checkpalindrome(palindrome)\n",
    "  flag+=1\n",
    "\n",
    "\n"
   ]
  },
  {
   "cell_type": "code",
   "execution_count": 8,
   "metadata": {
    "colab": {
     "base_uri": "https://localhost:8080/",
     "height": 151
    },
    "colab_type": "code",
    "id": "bOBPc9XnThaD",
    "outputId": "a7f71f3b-a609-46ed-b3a5-e6fea52c976d"
   },
   "outputs": [
    {
     "name": "stdout",
     "output_type": "stream",
     "text": [
      "Enter a number to check if it is prime or not: 4\n",
      "4 is not a prime number\n",
      "Because 2 times 2 is 4\n",
      "Enter a number to check if it is prime or not: 5\n",
      "5 is a prime number\n",
      "Enter a number to check if it is prime or not: 9\n",
      "9 is not a prime number\n",
      "Because 3 times 3 is 9\n"
     ]
    }
   ],
   "source": [
    "# QUESTION NO : 5\n",
    "\n",
    "flag=0\n",
    "def checkprime(primenum):\n",
    "    for i in range(2,primenum):  \n",
    "        if (primenum % i) == 0:  \n",
    "            print(primenum,\"is not a prime number\")  \n",
    "            print(\"Because\",i,\"times\",primenum//i,\"is\",primenum)  \n",
    "            break  \n",
    "    else:  \n",
    "        print(primenum,\"is a prime number\")  \n",
    "      \n",
    "while True:\n",
    "  if flag>2:\n",
    "    break\n",
    "  else:\n",
    "    primenum = int(input(\"Enter a number to check if it is prime or not: \"))\n",
    "    if primenum > 1:\n",
    "      checkprime(primenum)\n",
    "    else:  \n",
    "      print(primenum,\"is not a prime number\")\n",
    "    flag+=1\n",
    "  "
   ]
  },
  {
   "cell_type": "code",
   "execution_count": 0,
   "metadata": {
    "colab": {
     "base_uri": "https://localhost:8080/",
     "height": 417
    },
    "colab_type": "code",
    "id": "rDyODsVC5FfE",
    "outputId": "d175d484-8d30-4803-b439-bc17ae71176a"
   },
   "outputs": [
    {
     "name": "stdout",
     "output_type": "stream",
     "text": [
      "************************************\n",
      "Welcome to Save Mart Shopping Center\n",
      "************************************\n",
      "\n",
      "*************Shopping List*********\n",
      "\n",
      "1 .  Bananas \n",
      "\n",
      "2 .  Apple \n",
      "\n",
      "3 .  Oranges \n",
      "\n",
      "4 .  Sugar \n",
      "\n",
      "5 .  Yoghurt \n",
      "\n",
      "6 .  Potatoes \n",
      "\n",
      "7 .  Tomatoes \n",
      "\n",
      "8 .  Burger \n",
      "\n"
     ]
    }
   ],
   "source": [
    "# QUESTION NO : 6 \n",
    "# Logic 1 \n",
    "# Passing Arbitrary Arguments HardCode the items\n",
    "\n",
    "print(\"************************************\\n\" + \"Welcome to Save Mart Shopping Center\" + \"\\n************************************\")\n",
    "\n",
    "def shoppinglist(*shoppinglist):\n",
    "    itemno=0\n",
    "    for items in shoppinglist:\n",
    "      itemno+=1\n",
    "      print(itemno,\". \",items,\"\\n\")\n",
    "\n",
    "print(\"\\n*************Shopping List*********\\n\")\n",
    "shoppinglist(\"Bananas\",\"Apple\",\"Oranges\",\"Sugar\",\"Yoghurt\",\"Potatoes\",\"Tomatoes\",\"Burger\")\n",
    "\n"
   ]
  },
  {
   "cell_type": "code",
   "execution_count": 27,
   "metadata": {
    "colab": {
     "base_uri": "https://localhost:8080/",
     "height": 1000
    },
    "colab_type": "code",
    "id": "d0IsNkSrZSzJ",
    "outputId": "5dc54f5a-ab23-4226-e857-39fc7226d71d"
   },
   "outputs": [
    {
     "name": "stdout",
     "output_type": "stream",
     "text": [
      "************************************\n",
      "Welcome to Save Mart Shopping Center\n",
      "************************************\n",
      "Enter the items of the shopping list:(Enter Quit to Exit from shopping) Apples\n",
      "1 .  Apples\n",
      "Enter the items of the shopping list:(Enter Quit to Exit from shopping) Bananas\n",
      "1 .  Apples\n",
      "2 .  Bananas\n",
      "Enter the items of the shopping list:(Enter Quit to Exit from shopping) Oranges\n",
      "1 .  Apples\n",
      "2 .  Bananas\n",
      "3 .  Oranges\n",
      "Enter the items of the shopping list:(Enter Quit to Exit from shopping) Potatoes\n",
      "1 .  Apples\n",
      "2 .  Bananas\n",
      "3 .  Oranges\n",
      "4 .  Potatoes\n",
      "Enter the items of the shopping list:(Enter Quit to Exit from shopping) Yoghurt\n",
      "1 .  Apples\n",
      "2 .  Bananas\n",
      "3 .  Oranges\n",
      "4 .  Potatoes\n",
      "5 .  Yoghurt\n",
      "Enter the items of the shopping list:(Enter Quit to Exit from shopping) Burger\n",
      "1 .  Apples\n",
      "2 .  Bananas\n",
      "3 .  Oranges\n",
      "4 .  Potatoes\n",
      "5 .  Yoghurt\n",
      "6 .  Burger\n",
      "Enter the items of the shopping list:(Enter Quit to Exit from shopping) Polish\n",
      "1 .  Apples\n",
      "2 .  Bananas\n",
      "3 .  Oranges\n",
      "4 .  Potatoes\n",
      "5 .  Yoghurt\n",
      "6 .  Burger\n",
      "7 .  Polish\n",
      "Enter the items of the shopping list:(Enter Quit to Exit from shopping) Soap\n",
      "1 .  Apples\n",
      "2 .  Bananas\n",
      "3 .  Oranges\n",
      "4 .  Potatoes\n",
      "5 .  Yoghurt\n",
      "6 .  Burger\n",
      "7 .  Polish\n",
      "8 .  Soap\n",
      "Enter the items of the shopping list:(Enter Quit to Exit from shopping) Shampoo\n",
      "1 .  Apples\n",
      "2 .  Bananas\n",
      "3 .  Oranges\n",
      "4 .  Potatoes\n",
      "5 .  Yoghurt\n",
      "6 .  Burger\n",
      "7 .  Polish\n",
      "8 .  Soap\n",
      "9 .  Shampoo\n",
      "Enter the items of the shopping list:(Enter Quit to Exit from shopping) Quit\n",
      "\n",
      "*************Shopping List*********\n",
      "\n",
      "1 .  Apples\n",
      "2 .  Bananas\n",
      "3 .  Oranges\n",
      "4 .  Potatoes\n",
      "5 .  Yoghurt\n",
      "6 .  Burger\n",
      "7 .  Polish\n",
      "8 .  Soap\n",
      "9 .  Shampoo\n"
     ]
    }
   ],
   "source": [
    "# QUESTION NO : 6\n",
    "# Logic 2\n",
    "# Taking user input and passing list in Arbitrary argument Concept\n",
    "\n",
    "print(\"************************************\\n\" + \"Welcome to Save Mart Shopping Center\" + \"\\n************************************\")\n",
    "itemslist=[]\n",
    "flag=True\n",
    "def shoppinglist(*shoppinglist):\n",
    "    for items in shoppinglist:\n",
    "      return items\n",
    "\n",
    "while flag:\n",
    "  itemno=0\n",
    "  itemsname=input(\"Enter the items of the shopping list:(Enter Quit to Exit from shopping) \")\n",
    "  if itemsname==\"Quit\":\n",
    "    flag=False\n",
    "    print(\"\\n*************Shopping List*********\\n\")\n",
    "    for finalitems in finallist:\n",
    "      itemno+=1\n",
    "      print(itemno,\". \",finalitems)\n",
    "\n",
    "  else: \n",
    "    itemslist.append(itemsname)\n",
    "    finallist=shoppinglist(itemslist)\n",
    "    for finalitems in finallist:\n",
    "      itemno+=1\n",
    "      print(itemno,\". \",finalitems)\n"
   ]
  }
 ],
 "metadata": {
  "colab": {
   "collapsed_sections": [],
   "name": "Python Assignment # 5.ipynb",
   "provenance": []
  },
  "kernelspec": {
   "display_name": "Python 3",
   "language": "python",
   "name": "python3"
  },
  "language_info": {
   "codemirror_mode": {
    "name": "ipython",
    "version": 3
   },
   "file_extension": ".py",
   "mimetype": "text/x-python",
   "name": "python",
   "nbconvert_exporter": "python",
   "pygments_lexer": "ipython3",
   "version": "3.7.4"
  }
 },
 "nbformat": 4,
 "nbformat_minor": 1
}
