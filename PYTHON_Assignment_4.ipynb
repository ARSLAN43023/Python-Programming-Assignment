{
 "cells": [
  {
   "cell_type": "markdown",
   "metadata": {
    "colab_type": "text",
    "id": "d0XzL77ZH4Rl"
   },
   "source": [
    "**PYTHON ASSIGNMENT # 4**"
   ]
  },
  {
   "cell_type": "code",
   "execution_count": 0,
   "metadata": {
    "colab": {
     "base_uri": "https://localhost:8080/",
     "height": 272
    },
    "colab_type": "code",
    "id": "ODvSw6XJ8xdF",
    "outputId": "f87c5c73-12fa-49f0-dead-fb3762dfd237"
   },
   "outputs": [
    {
     "name": "stdout",
     "output_type": "stream",
     "text": [
      "1 What is the capital city of Pakistan?\n",
      " Write the correct option as input \n",
      "1.Faisalabad 2.Karachi 3.Islamabad 4.Lahore\n",
      "Islamabad\n",
      "2 What is national game of Pakistan?\n",
      " Write the correct option as input \n",
      "1.Cricket 2.Hockey 3.Football 4.Badminton\n",
      "Hockey\n",
      "3 What is the abbrevation of currency of Pakistan?\n",
      " Write the correct option as input \n",
      "1.PND 2.YEN 3.USD 4.PKR\n",
      "USD\n",
      "Your obtained score is :  2\n",
      "Your percentage is :  66 %\n"
     ]
    }
   ],
   "source": [
    "# Quiz application with dictionary\n",
    "\n",
    "quiz_app=[\n",
    "    {\n",
    "    \"S.no\":1,\n",
    "    \"Question\":\"What is the capital city of Pakistan?\",\n",
    "    \"Options\":\"1.Faisalabad 2.Karachi 3.Islamabad 4.Lahore\",\n",
    "    \"Answer\":\"Islamabad\"\n",
    "    },\n",
    "     {\n",
    "    \"S.no\":2,\n",
    "    \"Question\":\"What is national game of Pakistan?\",\n",
    "    \"Options\":\"1.Cricket 2.Hockey 3.Football 4.Badminton\",\n",
    "    \"Answer\":\"Hockey\"\n",
    "    },\n",
    "    {\n",
    "    \"S.no\":3,\n",
    "    \"Question\":\"What is the abbrevation of currency of Pakistan?\",\n",
    "    \"Options\":\"1.PND 2.YEN 3.USD 4.PKR\",\n",
    "    \"Answer\":\"PKR\"\n",
    "    }    \n",
    "]\n",
    "\n",
    "score=0\n",
    "\n",
    "for quizapp in quiz_app:\n",
    "    print(str(quizapp[\"S.no\"]) + \" \" + quizapp[\"Question\"] + \"\\n Write the correct option as input \\n\" + quizapp[\"Options\"])\n",
    "    answer=input()\n",
    "    if answer==quizapp[\"Answer\"]:\n",
    "        score+=1\n",
    "\n",
    "print(\"Your obtained score is : \",score)\n",
    "\n",
    "# Calculating percentage \n",
    "\n",
    "percentage=(score/len(quiz_app))*100\n",
    "print(\"Your percentage is : \", int(percentage) , \"%\")\n",
    "        "
   ]
  },
  {
   "cell_type": "code",
   "execution_count": 0,
   "metadata": {
    "colab": {
     "base_uri": "https://localhost:8080/",
     "height": 435
    },
    "colab_type": "code",
    "id": "ehSx7WZN8xdK",
    "outputId": "35f9b8b2-8a92-4955-f352-314742bb430e"
   },
   "outputs": [
    {
     "name": "stdout",
     "output_type": "stream",
     "text": [
      "Name: Arslan Ahmed\n",
      "Age: 25\n",
      "City: Islamabad\n",
      "\n",
      "After adding qualification to person details \n",
      " \n",
      "Name: Arslan Ahmed\n",
      "Age: 25\n",
      "City: Islamabad\n",
      "Qualification: Intermediate\n",
      "\n",
      "After updating qualification to person details \n",
      " \n",
      "Name: Arslan Ahmed\n",
      "Age: 25\n",
      "City: Islamabad\n",
      "Qualification: Bachelors in Software Engineering\n",
      "\n",
      "After Deleting new key value pair from person details \n",
      " \n",
      "Name: Arslan Ahmed\n",
      "Age: 25\n",
      "City: Islamabad\n"
     ]
    }
   ],
   "source": [
    "# Question No :1\n",
    "person={\n",
    "    \"First_name\":\"Arslan\",\n",
    "    \"Last_name\":\"Ahmed\",\n",
    "    \"Age\":25,\n",
    "    \"City\":\"Islamabad\"\n",
    "}\n",
    "\n",
    "person_details=\"Name: \" +person[\"First_name\"] + \" \" + person[\"Last_name\"] + \"\\nAge: \"\\\n",
    "+ str(person[\"Age\"]) + \"\\nCity: \" + person[\"City\"]\n",
    "print(person_details + \"\\n\") \n",
    "\n",
    "# Adding new key value pair 'Qualification'\n",
    "\n",
    "person[\"Qualification\"]=\"Intermediate\"\n",
    "print(\"After adding qualification to person details \\n \")\n",
    "print(person_details + \"\\nQualification: \" + person[\"Qualification\"] + \"\\n\")\n",
    "\n",
    "# Updating qualification details\n",
    "person[\"Qualification\"]=\"Bachelors in Software Engineering\"\n",
    "\n",
    "print(\"After updating qualification to person details \\n \")\n",
    "print(person_details + \"\\nQualification: \" + person[\"Qualification\"])\n",
    "\n",
    "# Deleting the key value pair 'Qualification'\n",
    "print(\"\\nAfter Deleting new key value pair from person details \\n \")\n",
    "del person[\"Qualification\"]\n",
    "\n",
    "print(person_details)\n",
    "\n",
    "\n"
   ]
  },
  {
   "cell_type": "code",
   "execution_count": 1,
   "metadata": {
    "colab": {
     "base_uri": "https://localhost:8080/",
     "height": 235
    },
    "colab_type": "code",
    "id": "WJ31se5TBTU-",
    "outputId": "f0dcd45b-c98a-4d58-996a-2d77b36b20f4"
   },
   "outputs": [
    {
     "name": "stdout",
     "output_type": "stream",
     "text": [
      "Islamabad Information: \n",
      " Country: Pakistan\n",
      " Population: 1,095,064\tapprox\n",
      " Fact: Islamabad is capital of Pakistan and most beautiful capital in the world\n",
      "Colombo Information: \n",
      " Country: Srilanka\n",
      " Population: 752,993 approx\n",
      " Fact: Commercial Capital and Largest City of Srilanka by Population\n",
      "Sydney Information: \n",
      " Country: Australia\n",
      " Population: 5.23 Million approx\n",
      " Fact: Sydney is the capital city of New South Wales.Sydney is Australia's most populated city \n"
     ]
    }
   ],
   "source": [
    "# Question no 2\n",
    "\n",
    "Cities={ \"Islamabad\":{\n",
    "          \"Country\":\"Pakistan\",\n",
    "          \"Population\":\"1,095,064\tapprox\",\n",
    "          \"Fact\":\"Islamabad is capital of Pakistan and most beautiful capital in the world\"},\n",
    "        \"Colombo\":{\n",
    "          \"Country\":\"Srilanka\",\n",
    "          \"Population\":\"752,993 approx\",\n",
    "          \"Fact\":\"Commercial Capital and Largest City of Srilanka by Population\"},\n",
    "        \"Sydney\":{\n",
    "          \"Country\":\"Australia\",\n",
    "          \"Population\":\"5.23 Million approx\",\n",
    "          \"Fact\":\"Sydney is the capital city of New South Wales.Sydney is Australia's most populated city \"}\n",
    "}\n",
    "\n",
    "for keyval in Cities.keys():\n",
    "  if keyval==\"Islamabad\":\n",
    "    print(keyval +\" Information: \\n Country: \" + Cities[\"Islamabad\"][\"Country\"] + \"\\n Population: \" + Cities[\"Islamabad\"][\"Population\"] + \"\\n Fact: \" + Cities[\"Islamabad\"][\"Fact\"])\n",
    "  elif keyval==\"Colombo\":\n",
    "    print(keyval + \" Information: \\n Country: \" + Cities[\"Colombo\"][\"Country\"] + \"\\n Population: \" + Cities[\"Colombo\"][\"Population\"] + \"\\n Fact: \" + Cities[\"Colombo\"][\"Fact\"])\n",
    "  elif keyval==\"Sydney\":\n",
    "    print(keyval + \" Information: \\n Country: \" + Cities[\"Sydney\"][\"Country\"] + \"\\n Population: \" + Cities[\"Sydney\"][\"Population\"] + \"\\n Fact: \" + Cities[\"Sydney\"][\"Fact\"])\n"
   ]
  },
  {
   "cell_type": "code",
   "execution_count": 0,
   "metadata": {
    "colab": {
     "base_uri": "https://localhost:8080/",
     "height": 145
    },
    "colab_type": "code",
    "id": "8Pp5vtGj8xdO",
    "outputId": "a13ecc9b-8fe4-4378-fc27-f0f3ef7b71d1"
   },
   "outputs": [
    {
     "name": "stdout",
     "output_type": "stream",
     "text": [
      "Enter the no of persons in movie theatre: 3\n",
      "Enter your age: 25\n",
      "The cost of movie ticket is $15\n",
      "Enter your age: 2\n",
      "Ticket is free\n",
      "Enter your age: 10\n",
      "The cost of movie ticket is $10\n"
     ]
    }
   ],
   "source": [
    "# Question no 3\n",
    "no_of_persons=int(input(\"Enter the no of persons in movie theatre: \"))\n",
    "\n",
    "for checkage in range(no_of_persons):\n",
    "    age=int(input(\"Enter your age: \"))\n",
    "    if age<3:\n",
    "        print(\"Ticket is free\")\n",
    "    elif age>=3 and age<=12:\n",
    "        print(\"The cost of movie ticket is $10\")\n",
    "    elif age>12:\n",
    "        print(\"The cost of movie ticket is $15\")\n",
    "        \n",
    "    "
   ]
  },
  {
   "cell_type": "code",
   "execution_count": 0,
   "metadata": {
    "colab": {
     "base_uri": "https://localhost:8080/",
     "height": 35
    },
    "colab_type": "code",
    "id": "ZyCxF1-i8xdR",
    "outputId": "c8b93e3e-48fb-45c4-8611-c7e060c286b0"
   },
   "outputs": [
    {
     "name": "stdout",
     "output_type": "stream",
     "text": [
      "One of my favourite book is Alice in Wonder Land\n"
     ]
    }
   ],
   "source": [
    "# Question no 4 \n",
    "\n",
    "def favorite_book(title):\n",
    "    print(\"One of my favourite book is\", title)\n",
    "    \n",
    "favorite_book(\"Alice in Wonder Land\")\n"
   ]
  },
  {
   "cell_type": "code",
   "execution_count": 0,
   "metadata": {
    "colab": {
     "base_uri": "https://localhost:8080/",
     "height": 290
    },
    "colab_type": "code",
    "id": "Jywq0XVj8xdV",
    "outputId": "1264c3d5-69cd-49cc-b8e1-54e3ab4e3d42"
   },
   "outputs": [
    {
     "name": "stdout",
     "output_type": "stream",
     "text": [
      "******************GUESS THE NUMBER GAME**************************************\n",
      "Random Hidden num is:  8 \n",
      "Rules:\n",
      "1.You have total 3 chances to guess the hidden number \n",
      "2.The guess no must be between 1 and 30\n",
      "BEST OF LUCK\n",
      "Guess the correct num: 15\n",
      "Your guess is wrong you have 2 chances left to guess the correct num\n",
      "Hint: The hidden number is smaller than your entered guess number:\n",
      "Guess the correct num: 7\n",
      "Your guess is wrong you have 1 chances left to guess the correct num\n",
      "Hint: The hidden number is greater than your entered guess number:\n",
      "Guess the correct num: 8\n",
      "\n",
      "CONGRATULATIONS your guess is correct.......... YOU WON \n"
     ]
    }
   ],
   "source": [
    "# Question no 5\n",
    "\n",
    "import random\n",
    "\n",
    "random_num=random.randrange(1,30)\n",
    "print(\"******************GUESS THE NUMBER GAME**************************************\")\n",
    "print(\"Random Hidden num is: \",random_num , \"\\nRules:\\n1.You have total 3 chances to guess the hidden number \\n2.The guess no must be between 1 and 30\\nBEST OF LUCK\")\n",
    "\n",
    "count=3\n",
    "\n",
    "for countcheck in range(count):\n",
    "    guess_num=int(input(\"Guess the correct num: \"))\n",
    "    if random_num != guess_num:\n",
    "      count-=1\n",
    "      print(\"Your guess is wrong you have \" + str(count) + \" chances left to guess the correct num\")\n",
    "      if random_num<guess_num and count!=0:\n",
    "          print(\"Hint: The hidden number is smaller than your entered guess number:\")\n",
    "      elif random_num>guess_num and count!=0:\n",
    "          print(\"Hint: The hidden number is greater than your entered guess number:\")\n",
    "    else:\n",
    "        break\n",
    "            \n",
    "if count==0:\n",
    "    print(\"\\nSorry you have lost the game BETTER LUCK NEXT TIME\")\n",
    "elif random_num == guess_num :\n",
    "    print(\"\\nCONGRATULATIONS your guess is correct.......... YOU WON \")"
   ]
  }
 ],
 "metadata": {
  "colab": {
   "collapsed_sections": [],
   "name": "PYTHON Assignment # 4.ipynb",
   "provenance": []
  },
  "kernelspec": {
   "display_name": "Python 3",
   "language": "python",
   "name": "python3"
  },
  "language_info": {
   "codemirror_mode": {
    "name": "ipython",
    "version": 3
   },
   "file_extension": ".py",
   "mimetype": "text/x-python",
   "name": "python",
   "nbconvert_exporter": "python",
   "pygments_lexer": "ipython3",
   "version": "3.7.4"
  }
 },
 "nbformat": 4,
 "nbformat_minor": 1
}
