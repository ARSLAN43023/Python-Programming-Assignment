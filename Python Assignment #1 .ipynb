{
 "cells": [
  {
   "cell_type": "markdown",
   "metadata": {},
   "source": [
    "  # Python Assignment 1"
   ]
  },
  {
   "cell_type": "markdown",
   "metadata": {},
   "source": [
    "## QUESTION NO 1"
   ]
  },
  {
   "cell_type": "code",
   "execution_count": 1,
   "metadata": {},
   "outputs": [
    {
     "name": "stdout",
     "output_type": "stream",
     "text": [
      "Twinkle, twinkle, little star,\n",
      " \tHow I wonder what you are!\n",
      " \t \tUp above the world so high,\n",
      " \t \tLike a diamond in the sky\n",
      "Twinkle, twinkle, little star,\n",
      " \tHow I wonder what you are!\n"
     ]
    }
   ],
   "source": [
    "str1=\"Twinkle, twinkle, little star,\"\n",
    "str2=\"How I wonder what you are!\"\n",
    "str3=\"Up above the world so high,\"\n",
    "str4=\"Like a diamond in the sky\"\n",
    "\n",
    "print(str1+ \"\\n \\t\" + str2 + \"\\n \\t \\t\" + str3 + \"\\n \\t \\t\" + str4 + \"\\n\" + str1 + \"\\n \\t\"+ str2)"
   ]
  },
  {
   "cell_type": "markdown",
   "metadata": {},
   "source": [
    "## QUESTION NO 2"
   ]
  },
  {
   "cell_type": "code",
   "execution_count": 1,
   "metadata": {},
   "outputs": [
    {
     "name": "stdout",
     "output_type": "stream",
     "text": [
      "Python Current version is:  3.7.4 (default, Aug  9 2019, 18:34:13) [MSC v.1915 64 bit (AMD64)]\n"
     ]
    }
   ],
   "source": [
    "import sys\n",
    "print(\"Python Current version is: \",sys.version)"
   ]
  },
  {
   "cell_type": "markdown",
   "metadata": {},
   "source": [
    "## QUESTION NO 3"
   ]
  },
  {
   "cell_type": "code",
   "execution_count": 2,
   "metadata": {},
   "outputs": [
    {
     "name": "stdout",
     "output_type": "stream",
     "text": [
      "Current Date and Time is :  2019-11-03 21:13:12.209970\n"
     ]
    }
   ],
   "source": [
    "import datetime\n",
    "time=datetime.datetime.now()\n",
    "print(\"Current Date and Time is : \",time)"
   ]
  },
  {
   "cell_type": "markdown",
   "metadata": {},
   "source": [
    "## QUESTION NO 4"
   ]
  },
  {
   "cell_type": "code",
   "execution_count": 3,
   "metadata": {},
   "outputs": [
    {
     "name": "stdout",
     "output_type": "stream",
     "text": [
      "Enter the radius of circle: 4\n",
      "Area of Circle is :  50.285714285714285\n"
     ]
    }
   ],
   "source": [
    "radius=int(input(\"Enter the radius of circle: \"))\n",
    "area=(22/7)*float(radius**2)\n",
    "print(\"Area of Circle is : \",area)"
   ]
  },
  {
   "cell_type": "markdown",
   "metadata": {},
   "source": [
    "## QUESTION NO 5"
   ]
  },
  {
   "cell_type": "code",
   "execution_count": 4,
   "metadata": {},
   "outputs": [
    {
     "name": "stdout",
     "output_type": "stream",
     "text": [
      "Enter first name:ARSLAN\n",
      "Enter last name:AHMED\n",
      "Reverse Order: NALSRA DEMHA\n"
     ]
    }
   ],
   "source": [
    "first_name=input(\"Enter first name:\")\n",
    "last_name=input(\"Enter last name:\")\n",
    "print(\"Reverse Order:\",first_name[::-1],last_name[::-1])"
   ]
  },
  {
   "cell_type": "markdown",
   "metadata": {},
   "source": [
    "## QUESTION NO 6"
   ]
  },
  {
   "cell_type": "code",
   "execution_count": 5,
   "metadata": {},
   "outputs": [
    {
     "name": "stdout",
     "output_type": "stream",
     "text": [
      "Enter num 1 =34\n",
      "Enter num 2 =45\n",
      "Addition =  79\n"
     ]
    }
   ],
   "source": [
    "num1=int(input(\"Enter num 1 =\"))\n",
    "num2=int(input(\"Enter num 2 =\"))\n",
    "add=num1+num2\n",
    "print(\"Addition = \",add)"
   ]
  }
 ],
 "metadata": {
  "kernelspec": {
   "display_name": "Python 3",
   "language": "python",
   "name": "python3"
  },
  "language_info": {
   "codemirror_mode": {
    "name": "ipython",
    "version": 3
   },
   "file_extension": ".py",
   "mimetype": "text/x-python",
   "name": "python",
   "nbconvert_exporter": "python",
   "pygments_lexer": "ipython3",
   "version": "3.7.4"
  }
 },
 "nbformat": 4,
 "nbformat_minor": 2
}
